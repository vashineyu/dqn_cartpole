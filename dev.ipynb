{
 "cells": [
  {
   "cell_type": "code",
   "execution_count": 1,
   "metadata": {},
   "outputs": [],
   "source": [
    "# https://pytorch.org/tutorials/intermediate/reinforcement_q_learning.html\n",
    "import matplotlib.pyplot as plt"
   ]
  },
  {
   "cell_type": "code",
   "execution_count": 2,
   "metadata": {},
   "outputs": [],
   "source": [
    "import gym\n",
    "import os\n",
    "import numpy as np\n",
    "from pyvirtualdisplay import Display\n",
    "\n",
    "from cartpole.config import get_cfg_defaults\n",
    "from cartpole.utils import ReplayMemory, screen_to_state\n",
    "from cartpole.model import DQN\n",
    "\n",
    "\n",
    "\n",
    "cfg = get_cfg_defaults()\n",
    "\n",
    "devices = \",\".join(str(i) for i in cfg.SYSTEM.DEVICES)\n",
    "os.environ[\"CUDA_DEVICE_ORDER\"]=\"PCI_BUS_ID\"\n",
    "os.environ[\"CUDA_VISIBLE_DEVICES\"] = devices"
   ]
  },
  {
   "cell_type": "code",
   "execution_count": 3,
   "metadata": {},
   "outputs": [],
   "source": [
    "\"\"\"\n",
    "If you want to access the behind-the.scenes dynamics of a specific environment, \n",
    "then you use the unwrapped property.\n",
    "\"\"\"\n",
    "display = Display(visible=0, size=cfg.SYSTEM.VIRTUAL_SCREEN)\n",
    "display.start()\n",
    "env = gym.make(\"CartPole-v0\").unwrapped\n"
   ]
  },
  {
   "cell_type": "code",
   "execution_count": 4,
   "metadata": {},
   "outputs": [],
   "source": [
    "#policy_net = DQN(2)\n",
    "#target_net = DQN(2)"
   ]
  },
  {
   "cell_type": "code",
   "execution_count": 5,
   "metadata": {},
   "outputs": [],
   "source": [
    "from tensorflow.python.keras import models, layers\n",
    "\n",
    "class Brain(models.Model):\n",
    "    def __init__(self, policy_net, target_net, gamma):\n",
    "        super(Brain, self).__init__()\n",
    "        self.policy_net = policy_net\n",
    "        self.target_net = target_net\n",
    "        self.loss_layer = LossLayer(name=\"TDerror\")\n",
    "        self.gamma = gamma\n",
    "        \n",
    "        self.policy_net.trainable = False\n",
    "        \n",
    "    def call(self, x):\n",
    "        state, action, next_state, reward, done = x\n",
    "        state = tf.convert_to_tensor(state, dtype=tf.float32)\n",
    "        action = tf.convert_to_tensor(action, dtype=tf.float32)\n",
    "        next_state = tf.convert_to_tensor(next_state, dtype=tf.float32)\n",
    "        reward = tf.convert_to_tensor(reward, dtype=tf.float32)\n",
    "        done = tf.convert_to_tensor(done, dtype=tf.float32)\n",
    "        \n",
    "        bz = K.shape(state)[0] # state.shape.as_list()[0]\n",
    "        target = reward + (1-done) * self.gamma * tf.gather_nd(self.target_net(next_state), \n",
    "                                                               tf.stack((tf.range(bz), \n",
    "                                                                         tf.cast(tf.argmax(self.policy_net(state), \n",
    "                                                                                           axis=1), dtype=tf.int32)), axis=1))\n",
    "        estimate = tf.gather_nd(self.policy_net(state), \n",
    "                                tf.stack((tf.range(bz), \n",
    "                                          tf.cast(action, dtype=tf.int32) ), axis=1))\n",
    "        loss = self.loss_layer([target, estimate])\n",
    "        \"\"\"\n",
    "        loss = tf.keras.losses.MSE(target, estimate)\n",
    "        self.add_loss(loss)\n",
    "        \"\"\"\n",
    "        return target, estimate\n",
    "    \n",
    "class LossLayer(layers.Layer):\n",
    "    def __init__(self, **kwargs):\n",
    "        super(LossLayer, self).__init__(**kwargs)\n",
    "        \n",
    "    def call(self, inputs):\n",
    "        print(inputs[0])\n",
    "        print(inputs[1])\n",
    "        loss = K.square(K.mean(inputs[0]-inputs[1]))\n",
    "        self.add_loss(loss)\n",
    "        return inputs"
   ]
  },
  {
   "cell_type": "code",
   "execution_count": 42,
   "metadata": {},
   "outputs": [],
   "source": [
    "#policy_net.build(input_shape=(1, 60,60,3))\n",
    "#target_net.build(input_shape=(1, 60,60,3))\n",
    "#x = policy_net.weights[0]\n",
    "\n",
    "\n",
    "#for i,j in zip(policy_net.layers, target_net.layers):\n",
    "#    i.set_weights(j.get_weights())\n",
    "\n"
   ]
  },
  {
   "cell_type": "code",
   "execution_count": 6,
   "metadata": {},
   "outputs": [],
   "source": [
    "# agent.py\n",
    "from cartpole.utils import Transition\n",
    "import tensorflow as tf\n",
    "from tensorflow.python.keras import backend as K\n",
    "import random\n",
    "\n",
    "\n",
    "class DqnAgent():\n",
    "    def __init__(self, input_shape=(128, 128, 3), \n",
    "                 action_space=2, \n",
    "                 soft_update_ratio=0.01,\n",
    "                 gamma=0.99,\n",
    "                 memory=None,\n",
    "                 eps_start=0.9, eps_end=0.05, eps_decay=200,\n",
    "                 batch_size=128,\n",
    "                 fully_random_mode=False,\n",
    "                 ):\n",
    "        self.action_space = action_space\n",
    "        self.soft_update_ratio = soft_update_ratio\n",
    "        self.gamma = gamma\n",
    "        self.memory = memory\n",
    "        self.eps = eps_start\n",
    "        self.eps_start = eps_start\n",
    "        self.eps_end = eps_end\n",
    "        self.eps_decay = eps_decay\n",
    "        self.batch_size = batch_size\n",
    "        self.fully_random_mode = fully_random_mode\n",
    "        \n",
    "        K.clear_session()\n",
    "        self.policy_net = DQN(action_space) # action giver\n",
    "        self.target_net = DQN(action_space) # action learner\n",
    "        self.policy_net.build(input_shape=(1,)+input_shape)\n",
    "        self.target_net.build(input_shape=(1,)+input_shape)\n",
    "        #self._soft_update() # sync weights at begining\n",
    "        \n",
    "        self.step_done = 0\n",
    "    \n",
    "    def act(self, state):\n",
    "        \"\"\" Decide to random act or follow policy\"\"\"\n",
    "        dice = random.random()\n",
    "        if (dice < self.eps) or (self.fully_random_mode):\n",
    "            # Random act\n",
    "            action = np.random.choice(self.action_space)\n",
    "        else:\n",
    "            # Follow policy\n",
    "            action = self.policy_net.predict(state)\n",
    "        self._update_eps()\n",
    "        \n",
    "        return action\n",
    "    \n",
    "    def learn(self):\n",
    "        if len(self.memory) < self.batch_size:\n",
    "            return\n",
    "        \n",
    "        transition = self.memory.sample(self.batch_size)\n",
    "        batch = Transition(*zip(*transition))\n",
    "    \n",
    "    def _soft_update(self):\n",
    "        [j.set_weights(i.get_weights() + j.get_weights()) \\\n",
    "         for i,j in zip(self.policy_net.layers, self.target_net.layers)]\n",
    "        \n",
    "    def _update_eps(self):\n",
    "        self.eps = self.eps_end + (self.eps_start - self.eps_end)*np.exp(-1.*self.step_done/self.eps_decay)\n",
    "        self.step_done += 1\n",
    "            "
   ]
  },
  {
   "cell_type": "code",
   "execution_count": null,
   "metadata": {},
   "outputs": [],
   "source": []
  },
  {
   "cell_type": "code",
   "execution_count": 7,
   "metadata": {},
   "outputs": [
    {
     "name": "stdout",
     "output_type": "stream",
     "text": [
      "WARNING:tensorflow:From /home/seanyu/.conda/envs/pyttf/lib/python3.6/site-packages/tensorflow/python/ops/resource_variable_ops.py:435: colocate_with (from tensorflow.python.framework.ops) is deprecated and will be removed in a future version.\n",
      "Instructions for updating:\n",
      "Colocations handled automatically by placer.\n"
     ]
    }
   ],
   "source": [
    "memory = ReplayMemory(capacity=10000)\n",
    "agent = DqnAgent(action_space=env.action_space.n, gamma=cfg.AGENT.GAMMA, memory=memory,\n",
    "                 eps_start=cfg.AGENT.EPS_START, eps_end=cfg.AGENT.EPS_END, eps_decay=cfg.AGENT.EPS_DECAY,\n",
    "                 batch_size=cfg.AGENT.BATCH_SIZE, \n",
    "                 input_shape=cfg.MODEL.INPUT_SIZE,\n",
    "                 fully_random_mode=True,\n",
    "                 )"
   ]
  },
  {
   "cell_type": "code",
   "execution_count": 30,
   "metadata": {},
   "outputs": [],
   "source": [
    "#cfg.AGENT.NUM_EPISODE\n",
    "for i_episode in range(2):\n",
    "    env.reset()\n",
    "    last_screen = screen_to_state(env, target_size=cfg.MODEL.INPUT_SIZE[:2])\n",
    "    current_screen = screen_to_state(env, target_size=cfg.MODEL.INPUT_SIZE[:2])\n",
    "    state = current_screen - last_screen\n",
    "    \n",
    "    for t_counter in range(cfg.AGENT.MAX_T):\n",
    "        action = agent.act(state)\n",
    "        \n",
    "        vector_state, reward, is_done, _ = env.step(action)\n",
    "        \n",
    "        last_screen = current_screen\n",
    "        current_screen = screen_to_state(env, target_size=cfg.MODEL.INPUT_SIZE[:2])\n",
    "        if not is_done:\n",
    "            next_state = current_screen - last_screen\n",
    "        else:\n",
    "            next_state = None\n",
    "            \n",
    "        memory.push(state, action, next_state, reward, is_done)\n",
    "        state = next_state\n",
    "        \n",
    "        # Train the model\n",
    "        agent.learn()\n",
    "        \n",
    "        if is_done:\n",
    "            break"
   ]
  },
  {
   "cell_type": "code",
   "execution_count": 31,
   "metadata": {},
   "outputs": [],
   "source": [
    "m = agent.memory.sample(4)"
   ]
  },
  {
   "cell_type": "code",
   "execution_count": 32,
   "metadata": {},
   "outputs": [],
   "source": [
    "b = Transition(*zip(*m))"
   ]
  },
  {
   "cell_type": "code",
   "execution_count": 76,
   "metadata": {},
   "outputs": [],
   "source": [
    "s = tf.Variable(np.array(b.state), dtype=tf.float32)\n",
    "a = tf.Variable(np.array(b.action), dtype=tf.float32)\n",
    "sn = tf.Variable(np.array(b.next_state), dtype=tf.float32)\n",
    "r = tf.Variable(np.array(b.reward), dtype=tf.float32)\n",
    "d =  tf.Variable(np.array(b.done)*1, dtype=tf.float32)"
   ]
  },
  {
   "cell_type": "code",
   "execution_count": null,
   "metadata": {},
   "outputs": [],
   "source": []
  },
  {
   "cell_type": "code",
   "execution_count": 54,
   "metadata": {},
   "outputs": [],
   "source": [
    "new_brain = Brain(policy_net=agent.policy_net, target_net=agent.target_net, gamma=0.9)\n",
    "optim = tf.keras.optimizers.Adam()"
   ]
  },
  {
   "cell_type": "code",
   "execution_count": 46,
   "metadata": {},
   "outputs": [],
   "source": [
    "def compute_loss(y_true, y_pred):\n",
    "    return K.square(K.mean(y_true-y_pred))"
   ]
  },
  {
   "cell_type": "code",
   "execution_count": 55,
   "metadata": {},
   "outputs": [],
   "source": [
    "new_brain.total_loss = 0\n",
    "new_brain.compile(optimizer=optim, loss=None)"
   ]
  },
  {
   "cell_type": "code",
   "execution_count": 48,
   "metadata": {},
   "outputs": [],
   "source": []
  },
  {
   "cell_type": "code",
   "execution_count": 81,
   "metadata": {},
   "outputs": [],
   "source": [
    "\"\"\"\n",
    "# Not implementedError ...\n",
    "with tf.GradientTape() as tape:\n",
    "    loss = new_brain([np.array(b.state), \n",
    "                      np.array(b.action), \n",
    "                      np.array(b.next_state),\n",
    "                      np.array(b.reward), \n",
    "                      np.array(b.done)*1])\n",
    "grads = tape.gradient(loss, new_brain.trainable_variables)\n",
    "\"\"\" \n",
    "#new_brain.summary()\n"
   ]
  },
  {
   "cell_type": "code",
   "execution_count": 60,
   "metadata": {},
   "outputs": [
    {
     "name": "stdout",
     "output_type": "stream",
     "text": [
      "Tensor(\"brain_3_2/add:0\", shape=(4,), dtype=float32)\n",
      "Tensor(\"brain_3_2/GatherNd_1:0\", shape=(4,), dtype=float32)\n"
     ]
    }
   ],
   "source": [
    "target, estimate = new_brain(batch)\n",
    "loss = compute_loss(target, estimate)"
   ]
  },
  {
   "cell_type": "code",
   "execution_count": 63,
   "metadata": {},
   "outputs": [],
   "source": [
    "grads = tf.gradients(loss, new_brain.trainable_variables)"
   ]
  },
  {
   "cell_type": "code",
   "execution_count": null,
   "metadata": {},
   "outputs": [],
   "source": []
  },
  {
   "cell_type": "code",
   "execution_count": 52,
   "metadata": {},
   "outputs": [
    {
     "ename": "InvalidArgumentError",
     "evalue": "You must feed a value for placeholder tensor 'output_2_target' with dtype float and shape [?]\n\t [[{{node output_2_target}}]]",
     "output_type": "error",
     "traceback": [
      "\u001b[0;31m---------------------------------------------------------------------------\u001b[0m",
      "\u001b[0;31mInvalidArgumentError\u001b[0m                      Traceback (most recent call last)",
      "\u001b[0;32m<ipython-input-52-f12fa45c5896>\u001b[0m in \u001b[0;36m<module>\u001b[0;34m()\u001b[0m\n\u001b[1;32m      4\u001b[0m          \u001b[0mnp\u001b[0m\u001b[0;34m.\u001b[0m\u001b[0marray\u001b[0m\u001b[0;34m(\u001b[0m\u001b[0mb\u001b[0m\u001b[0;34m.\u001b[0m\u001b[0mreward\u001b[0m\u001b[0;34m)\u001b[0m\u001b[0;34m,\u001b[0m\u001b[0;34m\u001b[0m\u001b[0m\n\u001b[1;32m      5\u001b[0m          np.array(b.done)*1]\n\u001b[0;32m----> 6\u001b[0;31m \u001b[0mnew_brain\u001b[0m\u001b[0;34m.\u001b[0m\u001b[0mtrain_on_batch\u001b[0m\u001b[0;34m(\u001b[0m\u001b[0mbatch\u001b[0m\u001b[0;34m)\u001b[0m\u001b[0;34m\u001b[0m\u001b[0m\n\u001b[0m",
      "\u001b[0;32m~/.conda/envs/pyttf/lib/python3.6/site-packages/tensorflow/python/keras/engine/training.py\u001b[0m in \u001b[0;36mtrain_on_batch\u001b[0;34m(self, x, y, sample_weight, class_weight, reset_metrics)\u001b[0m\n\u001b[1;32m   1186\u001b[0m       \u001b[0;32mif\u001b[0m \u001b[0mreset_metrics\u001b[0m\u001b[0;34m:\u001b[0m\u001b[0;34m\u001b[0m\u001b[0m\n\u001b[1;32m   1187\u001b[0m         \u001b[0mself\u001b[0m\u001b[0;34m.\u001b[0m\u001b[0m_make_train_function\u001b[0m\u001b[0;34m(\u001b[0m\u001b[0;34m)\u001b[0m\u001b[0;34m\u001b[0m\u001b[0m\n\u001b[0;32m-> 1188\u001b[0;31m         \u001b[0moutputs\u001b[0m \u001b[0;34m=\u001b[0m \u001b[0mself\u001b[0m\u001b[0;34m.\u001b[0m\u001b[0mtrain_function\u001b[0m\u001b[0;34m(\u001b[0m\u001b[0mins\u001b[0m\u001b[0;34m)\u001b[0m  \u001b[0;31m# pylint: disable=not-callable\u001b[0m\u001b[0;34m\u001b[0m\u001b[0m\n\u001b[0m\u001b[1;32m   1189\u001b[0m       \u001b[0;32melse\u001b[0m\u001b[0;34m:\u001b[0m\u001b[0;34m\u001b[0m\u001b[0m\n\u001b[1;32m   1190\u001b[0m         \u001b[0mself\u001b[0m\u001b[0;34m.\u001b[0m\u001b[0m_make_fit_function\u001b[0m\u001b[0;34m(\u001b[0m\u001b[0;34m)\u001b[0m\u001b[0;34m\u001b[0m\u001b[0m\n",
      "\u001b[0;32m~/.conda/envs/pyttf/lib/python3.6/site-packages/tensorflow/python/keras/backend.py\u001b[0m in \u001b[0;36m__call__\u001b[0;34m(self, inputs)\u001b[0m\n\u001b[1;32m   3074\u001b[0m \u001b[0;34m\u001b[0m\u001b[0m\n\u001b[1;32m   3075\u001b[0m     fetched = self._callable_fn(*array_vals,\n\u001b[0;32m-> 3076\u001b[0;31m                                 run_metadata=self.run_metadata)\n\u001b[0m\u001b[1;32m   3077\u001b[0m     \u001b[0mself\u001b[0m\u001b[0;34m.\u001b[0m\u001b[0m_call_fetch_callbacks\u001b[0m\u001b[0;34m(\u001b[0m\u001b[0mfetched\u001b[0m\u001b[0;34m[\u001b[0m\u001b[0;34m-\u001b[0m\u001b[0mlen\u001b[0m\u001b[0;34m(\u001b[0m\u001b[0mself\u001b[0m\u001b[0;34m.\u001b[0m\u001b[0m_fetches\u001b[0m\u001b[0;34m)\u001b[0m\u001b[0;34m:\u001b[0m\u001b[0;34m]\u001b[0m\u001b[0;34m)\u001b[0m\u001b[0;34m\u001b[0m\u001b[0m\n\u001b[1;32m   3078\u001b[0m     return nest.pack_sequence_as(self._outputs_structure,\n",
      "\u001b[0;32m~/.conda/envs/pyttf/lib/python3.6/site-packages/tensorflow/python/client/session.py\u001b[0m in \u001b[0;36m__call__\u001b[0;34m(self, *args, **kwargs)\u001b[0m\n\u001b[1;32m   1437\u001b[0m           ret = tf_session.TF_SessionRunCallable(\n\u001b[1;32m   1438\u001b[0m               \u001b[0mself\u001b[0m\u001b[0;34m.\u001b[0m\u001b[0m_session\u001b[0m\u001b[0;34m.\u001b[0m\u001b[0m_session\u001b[0m\u001b[0;34m,\u001b[0m \u001b[0mself\u001b[0m\u001b[0;34m.\u001b[0m\u001b[0m_handle\u001b[0m\u001b[0;34m,\u001b[0m \u001b[0margs\u001b[0m\u001b[0;34m,\u001b[0m \u001b[0mstatus\u001b[0m\u001b[0;34m,\u001b[0m\u001b[0;34m\u001b[0m\u001b[0m\n\u001b[0;32m-> 1439\u001b[0;31m               run_metadata_ptr)\n\u001b[0m\u001b[1;32m   1440\u001b[0m         \u001b[0;32mif\u001b[0m \u001b[0mrun_metadata\u001b[0m\u001b[0;34m:\u001b[0m\u001b[0;34m\u001b[0m\u001b[0m\n\u001b[1;32m   1441\u001b[0m           \u001b[0mproto_data\u001b[0m \u001b[0;34m=\u001b[0m \u001b[0mtf_session\u001b[0m\u001b[0;34m.\u001b[0m\u001b[0mTF_GetBuffer\u001b[0m\u001b[0;34m(\u001b[0m\u001b[0mrun_metadata_ptr\u001b[0m\u001b[0;34m)\u001b[0m\u001b[0;34m\u001b[0m\u001b[0m\n",
      "\u001b[0;32m~/.conda/envs/pyttf/lib/python3.6/site-packages/tensorflow/python/framework/errors_impl.py\u001b[0m in \u001b[0;36m__exit__\u001b[0;34m(self, type_arg, value_arg, traceback_arg)\u001b[0m\n\u001b[1;32m    526\u001b[0m             \u001b[0;32mNone\u001b[0m\u001b[0;34m,\u001b[0m \u001b[0;32mNone\u001b[0m\u001b[0;34m,\u001b[0m\u001b[0;34m\u001b[0m\u001b[0m\n\u001b[1;32m    527\u001b[0m             \u001b[0mcompat\u001b[0m\u001b[0;34m.\u001b[0m\u001b[0mas_text\u001b[0m\u001b[0;34m(\u001b[0m\u001b[0mc_api\u001b[0m\u001b[0;34m.\u001b[0m\u001b[0mTF_Message\u001b[0m\u001b[0;34m(\u001b[0m\u001b[0mself\u001b[0m\u001b[0;34m.\u001b[0m\u001b[0mstatus\u001b[0m\u001b[0;34m.\u001b[0m\u001b[0mstatus\u001b[0m\u001b[0;34m)\u001b[0m\u001b[0;34m)\u001b[0m\u001b[0;34m,\u001b[0m\u001b[0;34m\u001b[0m\u001b[0m\n\u001b[0;32m--> 528\u001b[0;31m             c_api.TF_GetCode(self.status.status))\n\u001b[0m\u001b[1;32m    529\u001b[0m     \u001b[0;31m# Delete the underlying status object from memory otherwise it stays alive\u001b[0m\u001b[0;34m\u001b[0m\u001b[0;34m\u001b[0m\u001b[0m\n\u001b[1;32m    530\u001b[0m     \u001b[0;31m# as there is a reference to status from this from the traceback due to\u001b[0m\u001b[0;34m\u001b[0m\u001b[0;34m\u001b[0m\u001b[0m\n",
      "\u001b[0;31mInvalidArgumentError\u001b[0m: You must feed a value for placeholder tensor 'output_2_target' with dtype float and shape [?]\n\t [[{{node output_2_target}}]]"
     ]
    }
   ],
   "source": [
    "batch = [np.array(b.state), \n",
    "         np.array(b.action), \n",
    "         np.array(b.next_state),\n",
    "         np.array(b.reward), \n",
    "         np.array(b.done)*1]\n",
    "new_brain.train_on_batch(batch)"
   ]
  },
  {
   "cell_type": "code",
   "execution_count": 53,
   "metadata": {},
   "outputs": [
    {
     "data": {
      "text/plain": [
       "[<tf.Tensor 'TDerror_1/Square:0' shape=() dtype=float32>]"
      ]
     },
     "execution_count": 53,
     "metadata": {},
     "output_type": "execute_result"
    }
   ],
   "source": [
    "new_brain.losses"
   ]
  },
  {
   "cell_type": "code",
   "execution_count": 47,
   "metadata": {},
   "outputs": [
    {
     "data": {
      "image/png": "[encoded data removed]",
      "text/plain": [
       "<Figure size 432x288 with 1 Axes>"
      ]
     },
     "metadata": {},
     "output_type": "display_data"
    }
   ],
   "source": [
    "import matplotlib.pyplot as plt\n",
    "\n",
    "plt.imshow(im)\n",
    "plt.show()"
   ]
  },
  {
   "cell_type": "code",
   "execution_count": 8,
   "metadata": {},
   "outputs": [
    {
     "data": {
      "image/png": "[encoded data removed]",
      "text/plain": [
       "<Figure size 432x288 with 1 Axes>"
      ]
     },
     "metadata": {},
     "output_type": "display_data"
    }
   ],
   "source": [
    "env.reset()\n",
    "plt.figure()\n",
    "plt.imshow(screen_to_state(env))\n",
    "plt.title('Example extracted screen')\n",
    "plt.show()"
   ]
  }
 ],
 "metadata": {
  "kernelspec": {
   "display_name": "Python 3",
   "language": "python",
   "name": "python3"
  },
  "language_info": {
   "codemirror_mode": {
    "name": "ipython",
    "version": 3
   },
   "file_extension": ".py",
   "mimetype": "text/x-python",
   "name": "python",
   "nbconvert_exporter": "python",
   "pygments_lexer": "ipython3",
   "version": "3.6.6"
  }
 },
 "nbformat": 4,
 "nbformat_minor": 2
}
