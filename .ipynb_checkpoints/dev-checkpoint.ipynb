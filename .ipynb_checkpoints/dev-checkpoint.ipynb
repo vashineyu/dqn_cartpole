{
 "cells": [
  {
   "cell_type": "code",
   "execution_count": 2,
   "metadata": {},
   "outputs": [],
   "source": []
  },
  {
   "cell_type": "code",
   "execution_count": 1,
   "metadata": {},
   "outputs": [],
   "source": [
    "import gym\n",
    "import os\n",
    "import numpy as np\n",
    "from pyvirtualdisplay import Display\n",
    "\n",
    "from cartpole.config import get_cfg_defaults\n",
    "from cartpole.utils import ReplayMemory\n",
    "\n",
    "\n",
    "\n",
    "cfg = get_cfg_defaults()\n",
    "\n",
    "devices = \",\".join(str(i) for i in cfg.SYSTEM.DEVICES)\n",
    "os.environ[\"CUDA_DEVICE_ORDER\"]=\"PCI_BUS_ID\"\n",
    "os.environ[\"CUDA_VISIBLE_DEVICES\"] = devices"
   ]
  },
  {
   "cell_type": "code",
   "execution_count": 2,
   "metadata": {},
   "outputs": [],
   "source": [
    "\"\"\"\n",
    "If you want to access the behind-the.scenes dynamics of a specific environment, \n",
    "then you use the unwrapped property.\n",
    "\"\"\"\n",
    "display = Display(visible=0, size=cfg.SYSTEM.VIRTUAL_SCREEN)\n",
    "display.start()\n",
    "env = gym.make(\"CartPole-v0\").unwrapped\n",
    "\n"
   ]
  },
  {
   "cell_type": "code",
   "execution_count": 39,
   "metadata": {},
   "outputs": [],
   "source": [
    "import tensorflow as tf\n",
    "from tensorflow.python.keras import layers, models\n",
    "\n",
    "class DQN(models.Model):\n",
    "    def __init__(self, outputs):\n",
    "        super(DQN, self).__init__()\n",
    "        self.conv1 = layers.Conv2D(filters=16, kernel_size=5, strides=2, padding=\"same\")\n",
    "        self.conv2 = layers.Conv2D(filters=32, kernel_size=5, strides=2, padding=\"same\")\n",
    "        self.conv3 = layers.Conv2D(filters=32, kernel_size=5, strides=2, padding=\"same\")\n",
    "        self.bn1 = layers.BatchNormalization(axis=-1)\n",
    "        self.bn2 = layers.BatchNormalization(axis=-1)\n",
    "        self.bn3 = layers.BatchNormalization(axis=-1)\n",
    "        self.flat = layers.Flatten()\n",
    "        \n",
    "        self.head = layers.Dense(units=outputs)\n",
    "        \n",
    "    def call(self, x):\n",
    "        x = tf.convert_to_tensor(x, dtype=tf.float32)\n",
    "        x = tf.nn.relu(self.bn1(self.conv1(x)))\n",
    "        x = tf.nn.relu(self.bn2(self.conv2(x)))\n",
    "        x = tf.nn.relu(self.bn3(self.conv3(x)))\n",
    "        x = self.flat(x)\n",
    "        \n",
    "        # use L1-loss, no need other activation for outputs\n",
    "        return self.head(x)\n",
    "    \n",
    "tf.keras.backend.clear_session()\n",
    "model = DQN(2)    "
   ]
  },
  {
   "cell_type": "code",
   "execution_count": 31,
   "metadata": {},
   "outputs": [],
   "source": [
    "env.reset()\n",
    "im = env.render(mode=\"rgb_array\")\n",
    "im = im.astype('float32')"
   ]
  },
  {
   "cell_type": "code",
   "execution_count": null,
   "metadata": {},
   "outputs": [],
   "source": []
  },
  {
   "cell_type": "code",
   "execution_count": null,
   "metadata": {},
   "outputs": [],
   "source": []
  }
 ],
 "metadata": {
  "kernelspec": {
   "display_name": "Python 3",
   "language": "python",
   "name": "python3"
  },
  "language_info": {
   "codemirror_mode": {
    "name": "ipython",
    "version": 3
   },
   "file_extension": ".py",
   "mimetype": "text/x-python",
   "name": "python",
   "nbconvert_exporter": "python",
   "pygments_lexer": "ipython3",
   "version": "3.6.6"
  }
 },
 "nbformat": 4,
 "nbformat_minor": 2
}
